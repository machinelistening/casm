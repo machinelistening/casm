{
 "cells": [
  {
   "cell_type": "markdown",
   "id": "5c49dcbd",
   "metadata": {},
   "source": [
    "# Computational Analysis of Sound and Music\n",
    "\n",
    "# A1 - Audio Domains\n",
    "\n",
    "Dr.-Ing. Jakob Abeßer, jakob.abesser@idmt.fraunhofer.de\n",
    "Last update: 26.03.2024"
   ]
  },
  {
   "cell_type": "code",
   "execution_count": null,
   "id": "c9dfc180",
   "metadata": {},
   "outputs": [],
   "source": [
    "import numpy as np"
   ]
  },
  {
   "cell_type": "markdown",
   "id": "dd56e515",
   "metadata": {},
   "source": [
    "## Numpy Fundamentals"
   ]
  },
  {
   "cell_type": "code",
   "execution_count": null,
   "id": "f7cf6d91",
   "metadata": {},
   "outputs": [],
   "source": [
    "# let's start with a one-dimensional array (vector)\n",
    "a = np.array([1, 2, 3])\n",
    "print(a)\n",
    "print(a.ndim)\n",
    "print(a.shape)\n",
    "print(a.dtype)"
   ]
  },
  {
   "cell_type": "code",
   "execution_count": null,
   "id": "cec9244c",
   "metadata": {},
   "outputs": [],
   "source": [
    "# now we look at a two-dimensional array (matrix)\n",
    "a = np.array([[1.1, 2.2], [3.3, 4.4]])\n",
    "print(a)\n",
    "print(a.ndim)\n",
    "print(a.shape)\n",
    "print(a.dtype)"
   ]
  },
  {
   "cell_type": "code",
   "execution_count": null,
   "id": "161daaee",
   "metadata": {},
   "outputs": [],
   "source": [
    "# create arrays filled with ones/zeros\n",
    "a = np.zeros([2, 3])\n",
    "print(a)\n",
    "a = np.ones(3)\n",
    "print(a)\n",
    "a = np.ones(3, dtype=int)\n",
    "print(a)"
   ]
  },
  {
   "cell_type": "code",
   "execution_count": null,
   "id": "1e629fff",
   "metadata": {},
   "outputs": [],
   "source": [
    "# create array with increasing numbers\n",
    "a = np.arange(4)\n",
    "print(a)\n",
    "\n",
    "# decreasing?\n",
    "b = a[::-1]\n",
    "print(b)"
   ]
  },
  {
   "cell_type": "code",
   "execution_count": null,
   "id": "b8649dcd",
   "metadata": {},
   "outputs": [],
   "source": [
    "# indexing/slicing works just with strings/list before\n",
    "a = np.arange(4)\n",
    "print(a[0])\n",
    "print(a[:2])\n",
    "print(a[-1])"
   ]
  },
  {
   "cell_type": "code",
   "execution_count": null,
   "id": "ffa4fc7a",
   "metadata": {},
   "outputs": [],
   "source": [
    "# concatenate two arrays to a new one\n",
    "a = np.arange(4)\n",
    "b = np.arange(3)\n",
    "print(np.concatenate((a, b))) "
   ]
  },
  {
   "cell_type": "markdown",
   "id": "c413f82a",
   "metadata": {},
   "source": [
    "<span style=\"color:red;\">Programming task</span>"
   ]
  },
  {
   "cell_type": "code",
   "execution_count": null,
   "id": "53e4a9d4",
   "metadata": {},
   "outputs": [],
   "source": [
    "# horizontal and vertical stacking of (2D) arrays\n",
    "a = np.array((1, 2), dtype=int) \n",
    "b = np.array((3, 4), dtype=int)\n",
    "\n",
    "## TASK: implement horizontal concatenation of a and b (replace \"None\" in the line below)\n",
    "hc = None \n",
    "assert np.array_equal(hc, [1, 2, 3, 4])\n",
    "\n",
    "## TASK: implement horizontal concatenation of a and b (replace \"None\" in the line below)\n",
    "vc = None \n",
    "assert np.array_equal(vc, [[1, 2], [3, 4]])"
   ]
  },
  {
   "cell_type": "code",
   "execution_count": null,
   "id": "fa883e43",
   "metadata": {},
   "outputs": [],
   "source": [
    "# random numbers\n",
    "# 1) normal distribution:\n",
    "#    5 numbers mean 0 and standard deviation 1\n",
    "random_numbers = np.random.normal(0, 1, 5)\n",
    "print(random_numbers)\n",
    "\n",
    "# 2) uniform distribution within [0, 1]:\n",
    "random_numbers_uniform = np.random.rand(5)\n",
    "print(random_numbers_uniform)"
   ]
  },
  {
   "cell_type": "code",
   "execution_count": null,
   "id": "8c500141",
   "metadata": {},
   "outputs": [],
   "source": [
    "# 3) uniform distribution between [v_min, v_max]\n",
    "v_min = 10\n",
    "v_max = 20\n",
    "\n",
    "# !TASK!: generate a 1D numpy array with 5 random numbers from a uniform distribution between v_min and v_max\n",
    "random_numbers_vmin_vmax = None\n",
    "assert len(random_numbers_vmin_vmax) == 5\n",
    "assert np.all(np.logical_and(random_numbers_vmin_vmax >= v_min,\n",
    "                             random_numbers_vmin_vmax <= v_max))\n",
    "print(random_numbers_vmin_vmax)"
   ]
  },
  {
   "cell_type": "code",
   "execution_count": null,
   "id": "c9ff5fc8",
   "metadata": {},
   "outputs": [],
   "source": [
    "# random 5 x 5 image with normally distributed pixel values\n",
    "\n",
    "# option 1\n",
    "random_image = np.random.normal(0, 1, (3,3))\n",
    "print(random_image)\n",
    "\n",
    "# option 2\n",
    "random_image = np.random.randn(3,3)\n",
    "print(random_image)"
   ]
  },
  {
   "cell_type": "markdown",
   "id": "d646caaf",
   "metadata": {},
   "source": [
    "We will need to stack multiple images (or spectrograms) later to use them for training neural network models. \n",
    "(Note that pixel intensities are typically between 0 and 1)"
   ]
  },
  {
   "cell_type": "code",
   "execution_count": null,
   "id": "f9ce908d",
   "metadata": {},
   "outputs": [],
   "source": [
    "images = []\n",
    "for i in range(10):\n",
    "    images.append(np.random.rand(3,3))\n",
    "\n",
    "print(f\"At this point, we have a list of {len(images)} images of shape {images[0].shape}\")"
   ]
  },
  {
   "cell_type": "markdown",
   "id": "056be8f1",
   "metadata": {},
   "source": [
    "Let's convert to a numpy tensor and check the shape again"
   ]
  },
  {
   "cell_type": "code",
   "execution_count": null,
   "id": "6c5dadd2",
   "metadata": {},
   "outputs": [],
   "source": [
    "images = np.array(images)\n",
    "print(images.shape)"
   ]
  },
  {
   "cell_type": "markdown",
   "id": "f3391da8",
   "metadata": {},
   "source": [
    "We will later call the firs dimension **batch dimension** as it allows to index all images in our collection."
   ]
  },
  {
   "cell_type": "code",
   "execution_count": null,
   "id": "13776a93",
   "metadata": {},
   "outputs": [],
   "source": [
    "# Here's our first image\n",
    "print(images[0, :, :])"
   ]
  },
  {
   "cell_type": "markdown",
   "id": "8ccaaa8e",
   "metadata": {},
   "source": [
    "If we want to train a Convolutional Neural Network (CNN), we need to add another dimension, which is called **channel dimension**. \n",
    "For colored images, this relates to the RGB (red, green, blue) color channels.\n",
    "Here, we assume that we have a monochrome image with just one channel."
   ]
  },
  {
   "cell_type": "code",
   "execution_count": null,
   "id": "83b97f5f",
   "metadata": {},
   "outputs": [],
   "source": [
    "# !TASK!: add a \"singleton\" dimension to our 3D tensor \"images\" (replace \"None\" in the line below)\n",
    "images_4d = None\n",
    "assert np.array_equal(images_4d.shape, (10, 3, 3, 1))"
   ]
  },
  {
   "cell_type": "markdown",
   "id": "175f3460",
   "metadata": {},
   "source": [
    "Done :)"
   ]
  }
 ],
 "metadata": {
  "kernelspec": {
   "display_name": "Python 3 (ipykernel)",
   "language": "python",
   "name": "python3"
  },
  "language_info": {
   "codemirror_mode": {
    "name": "ipython",
    "version": 3
   },
   "file_extension": ".py",
   "mimetype": "text/x-python",
   "name": "python",
   "nbconvert_exporter": "python",
   "pygments_lexer": "ipython3",
   "version": "3.7.4"
  }
 },
 "nbformat": 4,
 "nbformat_minor": 5
}
